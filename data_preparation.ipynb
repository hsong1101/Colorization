{
 "cells": [
  {
   "cell_type": "code",
   "execution_count": 1,
   "id": "56ca37bc-857d-4643-a895-7ccd7fb35dcf",
   "metadata": {},
   "outputs": [],
   "source": [
    "from pytube import YouTube\n",
    "\n",
    "import matplotlib.pyplot as plt\n",
    "import pandas as pd\n",
    "import cv2\n",
    "\n",
    "import re\n",
    "import os"
   ]
  },
  {
   "cell_type": "code",
   "execution_count": 35,
   "id": "ba91f6c8-c4c5-4994-8c8a-188e9f5f3302",
   "metadata": {},
   "outputs": [],
   "source": [
    "links = [\n",
    "    ('https://www.youtube.com/watch?v=BD_pjm7xvgg', 'movie'),\n",
    "    ('https://www.youtube.com/watch?v=RlfbRpZvT70', 'movie'),\n",
    "    ('https://www.youtube.com/watch?v=Zh-xHOtURxc', 'movie'),\n",
    "    ('https://www.youtube.com/watch?v=S6EAJCpBku8', 'movie'),\n",
    "    ('https://www.youtube.com/watch?v=EN-pRNfp8cA', 'movie'),\n",
    "    ('https://www.youtube.com/watch?v=sfDcqfRiJZU&t=1245s', 'movie'),\n",
    "    ('https://www.youtube.com/watch?v=7pjvh41e_1U&t=2003s', 'movie'),\n",
    "    ('https://www.youtube.com/watch?v=mPYWVDOZxzw', 'movie'),\n",
    "    ('https://www.youtube.com/watch?v=TAOBG5a_lV8', 'tour'),\n",
    "    ('https://www.youtube.com/watch?v=Nde5P8Ob2xg', 'tour'),\n",
    "]"
   ]
  },
  {
   "cell_type": "code",
   "execution_count": 37,
   "id": "96638cea-4525-4a62-8421-6476c0d8c812",
   "metadata": {},
   "outputs": [],
   "source": [
    "download_files = True\n",
    "resolution = ['360p', '480p']"
   ]
  },
  {
   "cell_type": "code",
   "execution_count": 38,
   "id": "12e46a12-23f8-4726-8794-9a2f48380a2c",
   "metadata": {
    "tags": []
   },
   "outputs": [
    {
     "name": "stdout",
     "output_type": "stream",
     "text": [
      "1/1\r"
     ]
    }
   ],
   "source": [
    "if download_files:\n",
    "    \n",
    "    info = pd.DataFrame(columns=['id', 'Title', 'URL', 'Resolution', 'FPS', 'Size (MB)', 'Type'])\n",
    "\n",
    "    for i, link in enumerate(links):\n",
    "            \n",
    "        vtype = link[1]\n",
    "        link = link[0]\n",
    "        \n",
    "        yt = YouTube(link)\n",
    "        \n",
    "        for res in resolution:\n",
    "            \n",
    "            videos_path = 'videos/{}'.format(res)\n",
    "            \n",
    "            if not os.path.exists(videos_path):\n",
    "                os.makedirs(videos_path)\n",
    "\n",
    "            stream = [x for x in yt.streams.filter(file_extension='mp4', progressive=False, only_video=True, res=res) if 'avc1' in x.video_codec][0]\n",
    "\n",
    "            stream.download(filename='{}/{}.mp4'.format(videos_path, i+1))\n",
    "\n",
    "            info = info.append({\n",
    "                'id':int(i+1),\n",
    "                'Title':yt.title,\n",
    "                'URL':link,\n",
    "                'Resolution':res,\n",
    "                'FPS':stream.fps,\n",
    "                'Size (MB)':stream.filesize/1024/1024,\n",
    "                'Type':vtype\n",
    "            }, ignore_index=True)\n",
    "\n",
    "        print('{}/{}'.format(i+1, len(links)), flush=True, end='\\r')\n",
    "        \n",
    "    info.to_csv('info.csv', index=False)\n",
    "    \n",
    "else:\n",
    "    info = pd.read_csv('info.csv')"
   ]
  },
  {
   "cell_type": "code",
   "execution_count": 42,
   "id": "af5f5723-1dd7-436a-887d-2c7721dae818",
   "metadata": {
    "tags": []
   },
   "outputs": [
    {
     "name": "stdout",
     "output_type": "stream",
     "text": [
      "144p 220\n",
      "360p 220\n"
     ]
    }
   ],
   "source": [
    "for res in resolution:\n",
    "    \n",
    "    temp = info[info['Resolution']==res]\n",
    "    num_images = 0\n",
    "    \n",
    "    # For movies\n",
    "    for i, x in temp.iterrows():\n",
    "\n",
    "        file_name = '{}.mp4'.format(x['id'])\n",
    "        fps = x['FPS']\n",
    "        res = x['Resolution']\n",
    "        videos_path = 'videos/{}'.format(res)\n",
    "\n",
    "        cap = cv2.VideoCapture('{}/{}'.format(videos_path, file_name))\n",
    "        length = int(cap.get(cv2.CAP_PROP_FRAME_COUNT))\n",
    "        curr_frame = fps * 60 * 5\n",
    "\n",
    "        images_path = 'images/{}'.format(res)\n",
    "\n",
    "        while(True):\n",
    "\n",
    "            cap.set(cv2.CAP_PROP_POS_FRAMES, curr_frame)\n",
    "            ret, frame = cap.read()\n",
    "\n",
    "            if not ret or curr_frame >= int(length * 0.35):\n",
    "                break\n",
    "\n",
    "            num_images += 1\n",
    "\n",
    "            if not os.path.exists(images_path):\n",
    "                os.makedirs(images_path)\n",
    "\n",
    "            plt.imsave('{}/{}.png'.format(images_path, num_images), frame)\n",
    "\n",
    "            if x['Type'] == 'tour':\n",
    "                curr_frame += fps * 60 # fastforward 60 seconds\n",
    "            else:\n",
    "                curr_frame += fps * 5 # fastforward 5 seconds\n",
    "\n",
    "        print(res, num_images, 'images')"
   ]
  }
 ],
 "metadata": {
  "kernelspec": {
   "display_name": "Python 3 (ipykernel)",
   "language": "python",
   "name": "python3"
  },
  "language_info": {
   "codemirror_mode": {
    "name": "ipython",
    "version": 3
   },
   "file_extension": ".py",
   "mimetype": "text/x-python",
   "name": "python",
   "nbconvert_exporter": "python",
   "pygments_lexer": "ipython3",
   "version": "3.9.6"
  }
 },
 "nbformat": 4,
 "nbformat_minor": 5
}
